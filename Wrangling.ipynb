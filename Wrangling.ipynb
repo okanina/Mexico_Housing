{
 "cells": [
  {
   "cell_type": "code",
   "execution_count": 1,
   "id": "9af39072",
   "metadata": {},
   "outputs": [
    {
     "name": "stderr",
     "output_type": "stream",
     "text": [
      "C:\\Users\\Cynthia\\AppData\\Roaming\\Python\\Python311\\site-packages\\pandas\\core\\arrays\\masked.py:60: UserWarning: Pandas requires version '1.3.6' or newer of 'bottleneck' (version '1.3.5' currently installed).\n",
      "  from pandas.core import (\n"
     ]
    }
   ],
   "source": [
    "# libraries\n",
    "import pandas as pd\n",
    "import warnings\n",
    "warnings.filterwarnings(\"ignore\")"
   ]
  },
  {
   "cell_type": "markdown",
   "id": "30161110",
   "metadata": {},
   "source": [
    "## DF1"
   ]
  },
  {
   "cell_type": "code",
   "execution_count": 2,
   "id": "4bb050f1",
   "metadata": {},
   "outputs": [
    {
     "name": "stdout",
     "output_type": "stream",
     "text": [
      "There are 700 rows and 7 columns.\n",
      "<class 'pandas.core.frame.DataFrame'>\n",
      "RangeIndex: 700 entries, 0 to 699\n",
      "Data columns (total 7 columns):\n",
      " #   Column         Non-Null Count  Dtype  \n",
      "---  ------         --------------  -----  \n",
      " 0   Unnamed: 0     700 non-null    int64  \n",
      " 1   property_type  700 non-null    object \n",
      " 2   state          700 non-null    object \n",
      " 3   lat            583 non-null    float64\n",
      " 4   lon            583 non-null    float64\n",
      " 5   area_m2        700 non-null    float64\n",
      " 6   price_usd      700 non-null    object \n",
      "dtypes: float64(3), int64(1), object(3)\n",
      "memory usage: 38.4+ KB\n",
      "None\n"
     ]
    },
    {
     "data": {
      "text/html": [
       "<div>\n",
       "<style scoped>\n",
       "    .dataframe tbody tr th:only-of-type {\n",
       "        vertical-align: middle;\n",
       "    }\n",
       "\n",
       "    .dataframe tbody tr th {\n",
       "        vertical-align: top;\n",
       "    }\n",
       "\n",
       "    .dataframe thead th {\n",
       "        text-align: right;\n",
       "    }\n",
       "</style>\n",
       "<table border=\"1\" class=\"dataframe\">\n",
       "  <thead>\n",
       "    <tr style=\"text-align: right;\">\n",
       "      <th></th>\n",
       "      <th>Unnamed: 0</th>\n",
       "      <th>property_type</th>\n",
       "      <th>state</th>\n",
       "      <th>lat</th>\n",
       "      <th>lon</th>\n",
       "      <th>area_m2</th>\n",
       "      <th>price_usd</th>\n",
       "    </tr>\n",
       "  </thead>\n",
       "  <tbody>\n",
       "    <tr>\n",
       "      <th>0</th>\n",
       "      <td>1</td>\n",
       "      <td>house</td>\n",
       "      <td>Estado de México</td>\n",
       "      <td>19.560181</td>\n",
       "      <td>-99.233528</td>\n",
       "      <td>150.0</td>\n",
       "      <td>$67,965.56</td>\n",
       "    </tr>\n",
       "    <tr>\n",
       "      <th>1</th>\n",
       "      <td>2</td>\n",
       "      <td>house</td>\n",
       "      <td>Nuevo León</td>\n",
       "      <td>25.688436</td>\n",
       "      <td>-100.198807</td>\n",
       "      <td>186.0</td>\n",
       "      <td>$63,223.78</td>\n",
       "    </tr>\n",
       "    <tr>\n",
       "      <th>2</th>\n",
       "      <td>3</td>\n",
       "      <td>apartment</td>\n",
       "      <td>Guerrero</td>\n",
       "      <td>16.767704</td>\n",
       "      <td>-99.764383</td>\n",
       "      <td>82.0</td>\n",
       "      <td>$84,298.37</td>\n",
       "    </tr>\n",
       "    <tr>\n",
       "      <th>3</th>\n",
       "      <td>4</td>\n",
       "      <td>apartment</td>\n",
       "      <td>Guerrero</td>\n",
       "      <td>16.829782</td>\n",
       "      <td>-99.911012</td>\n",
       "      <td>150.0</td>\n",
       "      <td>$94,308.80</td>\n",
       "    </tr>\n",
       "    <tr>\n",
       "      <th>4</th>\n",
       "      <td>5</td>\n",
       "      <td>house</td>\n",
       "      <td>Veracruz de Ignacio de la Llave</td>\n",
       "      <td>NaN</td>\n",
       "      <td>NaN</td>\n",
       "      <td>175.0</td>\n",
       "      <td>$94,835.67</td>\n",
       "    </tr>\n",
       "  </tbody>\n",
       "</table>\n",
       "</div>"
      ],
      "text/plain": [
       "   Unnamed: 0 property_type                            state        lat  \\\n",
       "0           1         house                 Estado de México  19.560181   \n",
       "1           2         house                       Nuevo León  25.688436   \n",
       "2           3     apartment                         Guerrero  16.767704   \n",
       "3           4     apartment                         Guerrero  16.829782   \n",
       "4           5         house  Veracruz de Ignacio de la Llave        NaN   \n",
       "\n",
       "          lon  area_m2   price_usd  \n",
       "0  -99.233528    150.0  $67,965.56  \n",
       "1 -100.198807    186.0  $63,223.78  \n",
       "2  -99.764383     82.0  $84,298.37  \n",
       "3  -99.911012    150.0  $94,308.80  \n",
       "4         NaN    175.0  $94,835.67  "
      ]
     },
     "execution_count": 2,
     "metadata": {},
     "output_type": "execute_result"
    }
   ],
   "source": [
    "df1=pd.read_excel(r\"data\\Mexico-real-estate-1.xlsx\")\n",
    "nRows, nCols = df1.shape\n",
    "\n",
    "print(f\"There are {nRows} rows and {nCols} columns.\")\n",
    "print(df1.info()) #looking at df1 datatypes for all the columns.\n",
    "df1.head()"
   ]
  },
  {
   "cell_type": "markdown",
   "id": "5f6faa98",
   "metadata": {},
   "source": [
    "* It appears as if there are 700 rows and 7 columns.However, \"Unnamed: 0\" is an unecessary column that must be removed.Then there will be 2 datatypes present in the dataset, float and object.\n",
    "\n",
    "* Price column, \"price_usd\" appears to be of type object, will have to inspect and remove unecessary characters and convert it the correct datatype."
   ]
  },
  {
   "cell_type": "code",
   "execution_count": 3,
   "id": "a0bcc8da",
   "metadata": {},
   "outputs": [],
   "source": [
    "# removing the unnecessary characters and converting the column to a correct datatype\n",
    "df1.price_usd=df1.price_usd.str.replace(\"$\", \"\").str.replace(\",\", \"\").astype(float)"
   ]
  },
  {
   "cell_type": "code",
   "execution_count": 4,
   "id": "16b73f15",
   "metadata": {},
   "outputs": [
    {
     "data": {
      "text/plain": [
       "Unnamed: 0        0.000000\n",
       "property_type     0.000000\n",
       "state             0.000000\n",
       "lat              16.714286\n",
       "lon              16.714286\n",
       "area_m2           0.000000\n",
       "price_usd         0.000000\n",
       "dtype: float64"
      ]
     },
     "execution_count": 4,
     "metadata": {},
     "output_type": "execute_result"
    }
   ],
   "source": [
    "# checking for missing values\n",
    "df1.isnull().sum()/len(df1) * 100"
   ]
  },
  {
   "cell_type": "markdown",
   "id": "fdafb986",
   "metadata": {},
   "source": [
    "There is 117 latitude and longitude values missing, which is 16.71 percent column data missing."
   ]
  },
  {
   "cell_type": "code",
   "execution_count": 5,
   "id": "97ddfbb5",
   "metadata": {},
   "outputs": [],
   "source": [
    "# dropping nan values for now.\n",
    "df1.dropna(inplace=True)"
   ]
  },
  {
   "cell_type": "code",
   "execution_count": 6,
   "id": "43667187",
   "metadata": {},
   "outputs": [
    {
     "data": {
      "text/plain": [
       "0"
      ]
     },
     "execution_count": 6,
     "metadata": {},
     "output_type": "execute_result"
    }
   ],
   "source": [
    "# checking for duplicated instances\n",
    "df1.duplicated(keep=False).sum()"
   ]
  },
  {
   "cell_type": "markdown",
   "id": "d8fef971",
   "metadata": {},
   "source": [
    "There are no duplicates values"
   ]
  },
  {
   "cell_type": "code",
   "execution_count": 7,
   "id": "69bc4fba",
   "metadata": {},
   "outputs": [
    {
     "data": {
      "text/html": [
       "<div>\n",
       "<style scoped>\n",
       "    .dataframe tbody tr th:only-of-type {\n",
       "        vertical-align: middle;\n",
       "    }\n",
       "\n",
       "    .dataframe tbody tr th {\n",
       "        vertical-align: top;\n",
       "    }\n",
       "\n",
       "    .dataframe thead th {\n",
       "        text-align: right;\n",
       "    }\n",
       "</style>\n",
       "<table border=\"1\" class=\"dataframe\">\n",
       "  <thead>\n",
       "    <tr style=\"text-align: right;\">\n",
       "      <th></th>\n",
       "      <th>property_type</th>\n",
       "      <th>state</th>\n",
       "      <th>lat</th>\n",
       "      <th>lon</th>\n",
       "      <th>area_m2</th>\n",
       "      <th>price_usd</th>\n",
       "    </tr>\n",
       "  </thead>\n",
       "  <tbody>\n",
       "    <tr>\n",
       "      <th>0</th>\n",
       "      <td>house</td>\n",
       "      <td>Estado de México</td>\n",
       "      <td>19.560181</td>\n",
       "      <td>-99.233528</td>\n",
       "      <td>150.0</td>\n",
       "      <td>67965.56</td>\n",
       "    </tr>\n",
       "    <tr>\n",
       "      <th>1</th>\n",
       "      <td>house</td>\n",
       "      <td>Nuevo León</td>\n",
       "      <td>25.688436</td>\n",
       "      <td>-100.198807</td>\n",
       "      <td>186.0</td>\n",
       "      <td>63223.78</td>\n",
       "    </tr>\n",
       "    <tr>\n",
       "      <th>2</th>\n",
       "      <td>apartment</td>\n",
       "      <td>Guerrero</td>\n",
       "      <td>16.767704</td>\n",
       "      <td>-99.764383</td>\n",
       "      <td>82.0</td>\n",
       "      <td>84298.37</td>\n",
       "    </tr>\n",
       "    <tr>\n",
       "      <th>3</th>\n",
       "      <td>apartment</td>\n",
       "      <td>Guerrero</td>\n",
       "      <td>16.829782</td>\n",
       "      <td>-99.911012</td>\n",
       "      <td>150.0</td>\n",
       "      <td>94308.80</td>\n",
       "    </tr>\n",
       "    <tr>\n",
       "      <th>5</th>\n",
       "      <td>house</td>\n",
       "      <td>Yucatán</td>\n",
       "      <td>21.052583</td>\n",
       "      <td>-89.538639</td>\n",
       "      <td>205.0</td>\n",
       "      <td>105191.37</td>\n",
       "    </tr>\n",
       "  </tbody>\n",
       "</table>\n",
       "</div>"
      ],
      "text/plain": [
       "  property_type             state        lat         lon  area_m2  price_usd\n",
       "0         house  Estado de México  19.560181  -99.233528    150.0   67965.56\n",
       "1         house        Nuevo León  25.688436 -100.198807    186.0   63223.78\n",
       "2     apartment          Guerrero  16.767704  -99.764383     82.0   84298.37\n",
       "3     apartment          Guerrero  16.829782  -99.911012    150.0   94308.80\n",
       "5         house           Yucatán  21.052583  -89.538639    205.0  105191.37"
      ]
     },
     "execution_count": 7,
     "metadata": {},
     "output_type": "execute_result"
    }
   ],
   "source": [
    "# # dropping unnamed column which is not necessary.\n",
    "df1.drop(columns=\"Unnamed: 0\", inplace=True)\n",
    "df1.head()"
   ]
  },
  {
   "cell_type": "markdown",
   "id": "8b4ab9ab",
   "metadata": {},
   "source": [
    "## Df2"
   ]
  },
  {
   "cell_type": "code",
   "execution_count": 8,
   "id": "09ff85ca",
   "metadata": {},
   "outputs": [
    {
     "name": "stdout",
     "output_type": "stream",
     "text": [
      "There are 700 rows and 7 columns.\n",
      "<class 'pandas.core.frame.DataFrame'>\n",
      "RangeIndex: 700 entries, 0 to 699\n",
      "Data columns (total 7 columns):\n",
      " #   Column         Non-Null Count  Dtype  \n",
      "---  ------         --------------  -----  \n",
      " 0   Unnamed: 0     700 non-null    int64  \n",
      " 1   property_type  700 non-null    object \n",
      " 2   state          700 non-null    object \n",
      " 3   lat            571 non-null    float64\n",
      " 4   lon            571 non-null    float64\n",
      " 5   area_m2        700 non-null    float64\n",
      " 6   price_mxn      700 non-null    float64\n",
      "dtypes: float64(4), int64(1), object(2)\n",
      "memory usage: 38.4+ KB\n",
      "None\n"
     ]
    },
    {
     "data": {
      "text/html": [
       "<div>\n",
       "<style scoped>\n",
       "    .dataframe tbody tr th:only-of-type {\n",
       "        vertical-align: middle;\n",
       "    }\n",
       "\n",
       "    .dataframe tbody tr th {\n",
       "        vertical-align: top;\n",
       "    }\n",
       "\n",
       "    .dataframe thead th {\n",
       "        text-align: right;\n",
       "    }\n",
       "</style>\n",
       "<table border=\"1\" class=\"dataframe\">\n",
       "  <thead>\n",
       "    <tr style=\"text-align: right;\">\n",
       "      <th></th>\n",
       "      <th>Unnamed: 0</th>\n",
       "      <th>property_type</th>\n",
       "      <th>state</th>\n",
       "      <th>lat</th>\n",
       "      <th>lon</th>\n",
       "      <th>area_m2</th>\n",
       "      <th>price_mxn</th>\n",
       "    </tr>\n",
       "  </thead>\n",
       "  <tbody>\n",
       "    <tr>\n",
       "      <th>0</th>\n",
       "      <td>1</td>\n",
       "      <td>apartment</td>\n",
       "      <td>Nuevo León</td>\n",
       "      <td>25.721081</td>\n",
       "      <td>-100.345581</td>\n",
       "      <td>72.0</td>\n",
       "      <td>1300000.0</td>\n",
       "    </tr>\n",
       "    <tr>\n",
       "      <th>1</th>\n",
       "      <td>2</td>\n",
       "      <td>apartment</td>\n",
       "      <td>Puebla</td>\n",
       "      <td>NaN</td>\n",
       "      <td>NaN</td>\n",
       "      <td>190.0</td>\n",
       "      <td>2500000.0</td>\n",
       "    </tr>\n",
       "    <tr>\n",
       "      <th>2</th>\n",
       "      <td>3</td>\n",
       "      <td>house</td>\n",
       "      <td>Morelos</td>\n",
       "      <td>23.634501</td>\n",
       "      <td>-102.552788</td>\n",
       "      <td>360.0</td>\n",
       "      <td>5300000.0</td>\n",
       "    </tr>\n",
       "    <tr>\n",
       "      <th>3</th>\n",
       "      <td>4</td>\n",
       "      <td>house</td>\n",
       "      <td>Morelos</td>\n",
       "      <td>NaN</td>\n",
       "      <td>NaN</td>\n",
       "      <td>76.0</td>\n",
       "      <td>820000.0</td>\n",
       "    </tr>\n",
       "    <tr>\n",
       "      <th>4</th>\n",
       "      <td>5</td>\n",
       "      <td>house</td>\n",
       "      <td>Puebla</td>\n",
       "      <td>NaN</td>\n",
       "      <td>NaN</td>\n",
       "      <td>200.0</td>\n",
       "      <td>1100000.0</td>\n",
       "    </tr>\n",
       "  </tbody>\n",
       "</table>\n",
       "</div>"
      ],
      "text/plain": [
       "   Unnamed: 0 property_type       state        lat         lon  area_m2  \\\n",
       "0           1     apartment  Nuevo León  25.721081 -100.345581     72.0   \n",
       "1           2     apartment      Puebla        NaN         NaN    190.0   \n",
       "2           3         house     Morelos  23.634501 -102.552788    360.0   \n",
       "3           4         house     Morelos        NaN         NaN     76.0   \n",
       "4           5         house      Puebla        NaN         NaN    200.0   \n",
       "\n",
       "   price_mxn  \n",
       "0  1300000.0  \n",
       "1  2500000.0  \n",
       "2  5300000.0  \n",
       "3   820000.0  \n",
       "4  1100000.0  "
      ]
     },
     "execution_count": 8,
     "metadata": {},
     "output_type": "execute_result"
    }
   ],
   "source": [
    "df2=pd.read_excel(r\"data\\Mexico-real-estate-2.xlsx\")\n",
    "\n",
    "nRows, nCols = df2.shape\n",
    "\n",
    "print(f\"There are {nRows} rows and {nCols} columns.\")\n",
    "print(df2.info()) #looking at df1 datatypes for all the columns.\n",
    "df2.head()"
   ]
  },
  {
   "cell_type": "markdown",
   "id": "c560a177",
   "metadata": {},
   "source": [
    "* It appears as if there are 700 rows and 7 columns.However, \"Unnamed: 0\" is an unecessary column that must be removed.Then there will be 2 datatypes present in the dataset, float and object.\n",
    "\n",
    "* Price column, \"price_mxn\" is in mexican currency, will have to convert an american currency."
   ]
  },
  {
   "cell_type": "code",
   "execution_count": 9,
   "id": "baffff8d",
   "metadata": {},
   "outputs": [],
   "source": [
    "# converting 'price_mxn' columns from mxn to usd currency as per other dataframe and assging the result to a new column.\n",
    "# This data was collected in 2014, a dollar cost 19 pesos then.\n",
    "df2[\"price_usd\"]=df2.price_mxn/19 "
   ]
  },
  {
   "cell_type": "code",
   "execution_count": 10,
   "id": "ca235447",
   "metadata": {},
   "outputs": [],
   "source": [
    "#converting mxn currency to to usd currency.\n",
    "df2.drop(columns=[\"price_mxn\", \"Unnamed: 0\"], inplace=True)"
   ]
  },
  {
   "cell_type": "code",
   "execution_count": 11,
   "id": "6d00d271",
   "metadata": {},
   "outputs": [
    {
     "data": {
      "text/plain": [
       "property_type     0.000000\n",
       "state             0.000000\n",
       "lat              18.428571\n",
       "lon              18.428571\n",
       "area_m2           0.000000\n",
       "price_usd         0.000000\n",
       "dtype: float64"
      ]
     },
     "execution_count": 11,
     "metadata": {},
     "output_type": "execute_result"
    }
   ],
   "source": [
    "# checking for missing values.\n",
    "df2.isnull().sum()/len(df2) * 100"
   ]
  },
  {
   "cell_type": "markdown",
   "id": "9c515280",
   "metadata": {},
   "source": [
    "There is 129 latitude and longitude values missing, which is 18.43 percent of the data in these 2 columns."
   ]
  },
  {
   "cell_type": "code",
   "execution_count": 12,
   "id": "9d7e6dd5",
   "metadata": {},
   "outputs": [],
   "source": [
    "# dropping nan values for now\n",
    "df2.dropna(inplace=True)"
   ]
  },
  {
   "cell_type": "code",
   "execution_count": 13,
   "id": "8b083c00",
   "metadata": {},
   "outputs": [
    {
     "data": {
      "text/plain": [
       "2"
      ]
     },
     "execution_count": 13,
     "metadata": {},
     "output_type": "execute_result"
    }
   ],
   "source": [
    "# checking for duplicated instances\n",
    "df2.duplicated(keep=False).sum()"
   ]
  },
  {
   "cell_type": "markdown",
   "id": "5215b0fb",
   "metadata": {},
   "source": [
    "There are 2 instances that are duplicates of each other."
   ]
  },
  {
   "cell_type": "code",
   "execution_count": 14,
   "id": "1b66aa90",
   "metadata": {},
   "outputs": [
    {
     "data": {
      "text/html": [
       "<div>\n",
       "<style scoped>\n",
       "    .dataframe tbody tr th:only-of-type {\n",
       "        vertical-align: middle;\n",
       "    }\n",
       "\n",
       "    .dataframe tbody tr th {\n",
       "        vertical-align: top;\n",
       "    }\n",
       "\n",
       "    .dataframe thead th {\n",
       "        text-align: right;\n",
       "    }\n",
       "</style>\n",
       "<table border=\"1\" class=\"dataframe\">\n",
       "  <thead>\n",
       "    <tr style=\"text-align: right;\">\n",
       "      <th></th>\n",
       "      <th>property_type</th>\n",
       "      <th>state</th>\n",
       "      <th>lat</th>\n",
       "      <th>lon</th>\n",
       "      <th>area_m2</th>\n",
       "      <th>price_usd</th>\n",
       "    </tr>\n",
       "  </thead>\n",
       "  <tbody>\n",
       "    <tr>\n",
       "      <th>0</th>\n",
       "      <td>apartment</td>\n",
       "      <td>Nuevo León</td>\n",
       "      <td>25.721081</td>\n",
       "      <td>-100.345581</td>\n",
       "      <td>72.0</td>\n",
       "      <td>68421.052632</td>\n",
       "    </tr>\n",
       "    <tr>\n",
       "      <th>2</th>\n",
       "      <td>house</td>\n",
       "      <td>Morelos</td>\n",
       "      <td>23.634501</td>\n",
       "      <td>-102.552788</td>\n",
       "      <td>360.0</td>\n",
       "      <td>278947.368421</td>\n",
       "    </tr>\n",
       "    <tr>\n",
       "      <th>6</th>\n",
       "      <td>apartment</td>\n",
       "      <td>Estado de México</td>\n",
       "      <td>19.272040</td>\n",
       "      <td>-99.572013</td>\n",
       "      <td>85.0</td>\n",
       "      <td>65789.473684</td>\n",
       "    </tr>\n",
       "    <tr>\n",
       "      <th>7</th>\n",
       "      <td>house</td>\n",
       "      <td>San Luis Potosí</td>\n",
       "      <td>22.138882</td>\n",
       "      <td>-100.996510</td>\n",
       "      <td>158.0</td>\n",
       "      <td>111578.947368</td>\n",
       "    </tr>\n",
       "    <tr>\n",
       "      <th>8</th>\n",
       "      <td>apartment</td>\n",
       "      <td>Distrito Federal</td>\n",
       "      <td>19.394558</td>\n",
       "      <td>-99.129707</td>\n",
       "      <td>65.0</td>\n",
       "      <td>39904.736842</td>\n",
       "    </tr>\n",
       "  </tbody>\n",
       "</table>\n",
       "</div>"
      ],
      "text/plain": [
       "  property_type             state        lat         lon  area_m2  \\\n",
       "0     apartment        Nuevo León  25.721081 -100.345581     72.0   \n",
       "2         house           Morelos  23.634501 -102.552788    360.0   \n",
       "6     apartment  Estado de México  19.272040  -99.572013     85.0   \n",
       "7         house   San Luis Potosí  22.138882 -100.996510    158.0   \n",
       "8     apartment  Distrito Federal  19.394558  -99.129707     65.0   \n",
       "\n",
       "       price_usd  \n",
       "0   68421.052632  \n",
       "2  278947.368421  \n",
       "6   65789.473684  \n",
       "7  111578.947368  \n",
       "8   39904.736842  "
      ]
     },
     "execution_count": 14,
     "metadata": {},
     "output_type": "execute_result"
    }
   ],
   "source": [
    "# dropping duplicated values.\n",
    "df2=df2.drop_duplicates(keep='first')\n",
    "df2.head()"
   ]
  },
  {
   "cell_type": "markdown",
   "id": "ceb9b080",
   "metadata": {},
   "source": [
    "## DF3"
   ]
  },
  {
   "cell_type": "code",
   "execution_count": 15,
   "id": "f086cfb2",
   "metadata": {},
   "outputs": [
    {
     "name": "stdout",
     "output_type": "stream",
     "text": [
      "There are 700 rows and 6 columns.\n",
      "<class 'pandas.core.frame.DataFrame'>\n",
      "RangeIndex: 700 entries, 0 to 699\n",
      "Data columns (total 6 columns):\n",
      " #   Column                   Non-Null Count  Dtype  \n",
      "---  ------                   --------------  -----  \n",
      " 0   Unnamed: 0               700 non-null    int64  \n",
      " 1   property_type            700 non-null    object \n",
      " 2   place_with_parent_names  700 non-null    object \n",
      " 3   lat-lon                  582 non-null    object \n",
      " 4   area_m2                  700 non-null    float64\n",
      " 5   price_usd                700 non-null    float64\n",
      "dtypes: float64(2), int64(1), object(3)\n",
      "memory usage: 32.9+ KB\n",
      "None\n"
     ]
    },
    {
     "data": {
      "text/html": [
       "<div>\n",
       "<style scoped>\n",
       "    .dataframe tbody tr th:only-of-type {\n",
       "        vertical-align: middle;\n",
       "    }\n",
       "\n",
       "    .dataframe tbody tr th {\n",
       "        vertical-align: top;\n",
       "    }\n",
       "\n",
       "    .dataframe thead th {\n",
       "        text-align: right;\n",
       "    }\n",
       "</style>\n",
       "<table border=\"1\" class=\"dataframe\">\n",
       "  <thead>\n",
       "    <tr style=\"text-align: right;\">\n",
       "      <th></th>\n",
       "      <th>Unnamed: 0</th>\n",
       "      <th>property_type</th>\n",
       "      <th>place_with_parent_names</th>\n",
       "      <th>lat-lon</th>\n",
       "      <th>area_m2</th>\n",
       "      <th>price_usd</th>\n",
       "    </tr>\n",
       "  </thead>\n",
       "  <tbody>\n",
       "    <tr>\n",
       "      <th>0</th>\n",
       "      <td>1</td>\n",
       "      <td>apartment</td>\n",
       "      <td>|México|Distrito Federal|Gustavo A. Madero|Acu...</td>\n",
       "      <td>19.52589,-99.151703</td>\n",
       "      <td>71.0</td>\n",
       "      <td>48550.59</td>\n",
       "    </tr>\n",
       "    <tr>\n",
       "      <th>1</th>\n",
       "      <td>2</td>\n",
       "      <td>house</td>\n",
       "      <td>|México|Estado de México|Toluca|Metepec|</td>\n",
       "      <td>19.2640539,-99.5727534</td>\n",
       "      <td>233.0</td>\n",
       "      <td>168636.73</td>\n",
       "    </tr>\n",
       "    <tr>\n",
       "      <th>2</th>\n",
       "      <td>3</td>\n",
       "      <td>house</td>\n",
       "      <td>|México|Estado de México|Toluca|Toluca de Lerd...</td>\n",
       "      <td>19.268629,-99.671722</td>\n",
       "      <td>300.0</td>\n",
       "      <td>86932.69</td>\n",
       "    </tr>\n",
       "    <tr>\n",
       "      <th>3</th>\n",
       "      <td>4</td>\n",
       "      <td>house</td>\n",
       "      <td>|México|Morelos|Temixco|Burgos Bugambilias|</td>\n",
       "      <td>NaN</td>\n",
       "      <td>275.0</td>\n",
       "      <td>263432.41</td>\n",
       "    </tr>\n",
       "    <tr>\n",
       "      <th>4</th>\n",
       "      <td>5</td>\n",
       "      <td>apartment</td>\n",
       "      <td>|México|Veracruz de Ignacio de la Llave|Veracruz|</td>\n",
       "      <td>19.511938,-96.871956</td>\n",
       "      <td>84.0</td>\n",
       "      <td>68508.67</td>\n",
       "    </tr>\n",
       "  </tbody>\n",
       "</table>\n",
       "</div>"
      ],
      "text/plain": [
       "   Unnamed: 0 property_type  \\\n",
       "0           1     apartment   \n",
       "1           2         house   \n",
       "2           3         house   \n",
       "3           4         house   \n",
       "4           5     apartment   \n",
       "\n",
       "                             place_with_parent_names                 lat-lon  \\\n",
       "0  |México|Distrito Federal|Gustavo A. Madero|Acu...     19.52589,-99.151703   \n",
       "1           |México|Estado de México|Toluca|Metepec|  19.2640539,-99.5727534   \n",
       "2  |México|Estado de México|Toluca|Toluca de Lerd...    19.268629,-99.671722   \n",
       "3        |México|Morelos|Temixco|Burgos Bugambilias|                     NaN   \n",
       "4  |México|Veracruz de Ignacio de la Llave|Veracruz|    19.511938,-96.871956   \n",
       "\n",
       "   area_m2  price_usd  \n",
       "0     71.0   48550.59  \n",
       "1    233.0  168636.73  \n",
       "2    300.0   86932.69  \n",
       "3    275.0  263432.41  \n",
       "4     84.0   68508.67  "
      ]
     },
     "execution_count": 15,
     "metadata": {},
     "output_type": "execute_result"
    }
   ],
   "source": [
    "df3=pd.read_excel(r\"data\\Mexico-real-estate-3.xlsx\")\n",
    "nRows, nCols = df3.shape\n",
    "\n",
    "print(f\"There are {nRows} rows and {nCols} columns.\")\n",
    "print(df3.info()) #looking at df1 datatypes for all the columns.\n",
    "df3.head()"
   ]
  },
  {
   "cell_type": "markdown",
   "id": "5bc2fb0e",
   "metadata": {},
   "source": [
    "* There are 700 rows and 6 columns.However, \"Unnamed: 0\" is an unecessary column that must be removed.Then there will be 5 columns and 2 datatypes present in the dataset, float and object.\n"
   ]
  },
  {
   "cell_type": "markdown",
   "id": "3db37372",
   "metadata": {},
   "source": [
    "<font size=\"+1\">Column 'place_with_parent_names' and 'lat-lon' does not seem to be in a proper order. "
   ]
  },
  {
   "cell_type": "markdown",
   "id": "3bcd65c6",
   "metadata": {},
   "source": [
    "### lat-lon"
   ]
  },
  {
   "cell_type": "code",
   "execution_count": 16,
   "id": "bc45ee3f",
   "metadata": {},
   "outputs": [],
   "source": [
    "# splitting lat-lon to get 2 columns.\n",
    "df3[[\"lat\",\"lon\"]]=df3[\"lat-lon\"].str.split(\",\", expand=True).astype(float)"
   ]
  },
  {
   "cell_type": "markdown",
   "id": "4ee58a16",
   "metadata": {},
   "source": [
    "### place_with_parent_names"
   ]
  },
  {
   "cell_type": "code",
   "execution_count": 17,
   "id": "22a015e4",
   "metadata": {},
   "outputs": [],
   "source": [
    "# spliting 'place_with_parent_names' to extract the district column.\n",
    "df3[\"state\"]=df3.place_with_parent_names.str.split(\"|\", expand=True)[2]"
   ]
  },
  {
   "cell_type": "code",
   "execution_count": 18,
   "id": "33f5a1e0",
   "metadata": {},
   "outputs": [],
   "source": [
    "# dropping unnecessary columns\n",
    "df3.drop(columns=[\"lat-lon\",\"place_with_parent_names\",\"Unnamed: 0\"], inplace=True)"
   ]
  },
  {
   "cell_type": "code",
   "execution_count": 19,
   "id": "98e5f446",
   "metadata": {},
   "outputs": [
    {
     "data": {
      "text/plain": [
       "property_type     0.000000\n",
       "area_m2           0.000000\n",
       "price_usd         0.000000\n",
       "lat              16.857143\n",
       "lon              16.857143\n",
       "state             0.000000\n",
       "dtype: float64"
      ]
     },
     "execution_count": 19,
     "metadata": {},
     "output_type": "execute_result"
    }
   ],
   "source": [
    "df3.isnull().sum()/ len(df3) * 100"
   ]
  },
  {
   "cell_type": "markdown",
   "id": "0843c826",
   "metadata": {},
   "source": [
    "There is 118 latitude and longitude values missing, which is 16.86 percent of the data in these 2 columns."
   ]
  },
  {
   "cell_type": "code",
   "execution_count": 20,
   "id": "0638dba0",
   "metadata": {},
   "outputs": [],
   "source": [
    "# dropping nan values for now.\n",
    "df3.dropna(inplace=True)\n"
   ]
  },
  {
   "cell_type": "code",
   "execution_count": 21,
   "id": "d190e2f4",
   "metadata": {},
   "outputs": [
    {
     "data": {
      "text/plain": [
       "2"
      ]
     },
     "execution_count": 21,
     "metadata": {},
     "output_type": "execute_result"
    }
   ],
   "source": [
    "# checking for duplicate values\n",
    "df3.duplicated(keep=False).sum()"
   ]
  },
  {
   "cell_type": "code",
   "execution_count": 22,
   "id": "2f4c39b3",
   "metadata": {},
   "outputs": [],
   "source": [
    "# dropping duplicated values\n",
    "df3=df3.drop_duplicates(keep='first')"
   ]
  },
  {
   "cell_type": "code",
   "execution_count": 23,
   "id": "6d1f00a8",
   "metadata": {},
   "outputs": [],
   "source": [
    "df3=df3.reindex(columns=['property_type', 'state', 'lat', 'lon', 'area_m2','price_usd'])"
   ]
  },
  {
   "cell_type": "code",
   "execution_count": 24,
   "id": "f03e6b22",
   "metadata": {},
   "outputs": [
    {
     "data": {
      "text/html": [
       "<div>\n",
       "<style scoped>\n",
       "    .dataframe tbody tr th:only-of-type {\n",
       "        vertical-align: middle;\n",
       "    }\n",
       "\n",
       "    .dataframe tbody tr th {\n",
       "        vertical-align: top;\n",
       "    }\n",
       "\n",
       "    .dataframe thead th {\n",
       "        text-align: right;\n",
       "    }\n",
       "</style>\n",
       "<table border=\"1\" class=\"dataframe\">\n",
       "  <thead>\n",
       "    <tr style=\"text-align: right;\">\n",
       "      <th></th>\n",
       "      <th>property_type</th>\n",
       "      <th>state</th>\n",
       "      <th>lat</th>\n",
       "      <th>lon</th>\n",
       "      <th>area_m2</th>\n",
       "      <th>price_usd</th>\n",
       "    </tr>\n",
       "  </thead>\n",
       "  <tbody>\n",
       "    <tr>\n",
       "      <th>0</th>\n",
       "      <td>apartment</td>\n",
       "      <td>Distrito Federal</td>\n",
       "      <td>19.525890</td>\n",
       "      <td>-99.151703</td>\n",
       "      <td>71.0</td>\n",
       "      <td>48550.59</td>\n",
       "    </tr>\n",
       "    <tr>\n",
       "      <th>1</th>\n",
       "      <td>house</td>\n",
       "      <td>Estado de México</td>\n",
       "      <td>19.264054</td>\n",
       "      <td>-99.572753</td>\n",
       "      <td>233.0</td>\n",
       "      <td>168636.73</td>\n",
       "    </tr>\n",
       "    <tr>\n",
       "      <th>2</th>\n",
       "      <td>house</td>\n",
       "      <td>Estado de México</td>\n",
       "      <td>19.268629</td>\n",
       "      <td>-99.671722</td>\n",
       "      <td>300.0</td>\n",
       "      <td>86932.69</td>\n",
       "    </tr>\n",
       "    <tr>\n",
       "      <th>4</th>\n",
       "      <td>apartment</td>\n",
       "      <td>Veracruz de Ignacio de la Llave</td>\n",
       "      <td>19.511938</td>\n",
       "      <td>-96.871956</td>\n",
       "      <td>84.0</td>\n",
       "      <td>68508.67</td>\n",
       "    </tr>\n",
       "    <tr>\n",
       "      <th>5</th>\n",
       "      <td>house</td>\n",
       "      <td>Jalisco</td>\n",
       "      <td>20.689157</td>\n",
       "      <td>-103.366728</td>\n",
       "      <td>175.0</td>\n",
       "      <td>102763.00</td>\n",
       "    </tr>\n",
       "  </tbody>\n",
       "</table>\n",
       "</div>"
      ],
      "text/plain": [
       "  property_type                            state        lat         lon  \\\n",
       "0     apartment                 Distrito Federal  19.525890  -99.151703   \n",
       "1         house                 Estado de México  19.264054  -99.572753   \n",
       "2         house                 Estado de México  19.268629  -99.671722   \n",
       "4     apartment  Veracruz de Ignacio de la Llave  19.511938  -96.871956   \n",
       "5         house                          Jalisco  20.689157 -103.366728   \n",
       "\n",
       "   area_m2  price_usd  \n",
       "0     71.0   48550.59  \n",
       "1    233.0  168636.73  \n",
       "2    300.0   86932.69  \n",
       "4     84.0   68508.67  \n",
       "5    175.0  102763.00  "
      ]
     },
     "execution_count": 24,
     "metadata": {},
     "output_type": "execute_result"
    }
   ],
   "source": [
    "df3.head()"
   ]
  },
  {
   "cell_type": "markdown",
   "id": "b3cfbfff",
   "metadata": {},
   "source": [
    "## Concatenate"
   ]
  },
  {
   "cell_type": "code",
   "execution_count": 25,
   "id": "6023718e",
   "metadata": {},
   "outputs": [
    {
     "data": {
      "text/plain": [
       "(1730, 6)"
      ]
     },
     "execution_count": 25,
     "metadata": {},
     "output_type": "execute_result"
    }
   ],
   "source": [
    "df=pd.concat([df1, df2, df3],ignore_index=True).drop_duplicates()\n",
    "df.shape"
   ]
  },
  {
   "cell_type": "markdown",
   "id": "c1c39623",
   "metadata": {},
   "source": [
    "## Save to CSV"
   ]
  },
  {
   "cell_type": "code",
   "execution_count": 26,
   "id": "714ae12a",
   "metadata": {},
   "outputs": [],
   "source": [
    "df.to_csv(\"data\\Mexico-real-estate-clean.csv\", index=False)"
   ]
  }
 ],
 "metadata": {
  "kernelspec": {
   "display_name": "Python 3 (ipykernel)",
   "language": "python",
   "name": "python3"
  },
  "language_info": {
   "codemirror_mode": {
    "name": "ipython",
    "version": 3
   },
   "file_extension": ".py",
   "mimetype": "text/x-python",
   "name": "python",
   "nbconvert_exporter": "python",
   "pygments_lexer": "ipython3",
   "version": "3.11.5"
  }
 },
 "nbformat": 4,
 "nbformat_minor": 5
}
