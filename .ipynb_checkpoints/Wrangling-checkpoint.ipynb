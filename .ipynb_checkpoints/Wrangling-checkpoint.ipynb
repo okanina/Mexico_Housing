{
 "cells": [
  {
   "cell_type": "markdown",
   "id": "35c61c30",
   "metadata": {},
   "source": [
    "<font size=\"+1\">In this notbook I'll be cleaning the data and save it as a CSV file to use it later.\n",
    "\n",
    "<font size=\"+1\">This data was collected in 2014, a dollar cost 19 pesos."
   ]
  },
  {
   "cell_type": "code",
   "execution_count": 3,
   "id": "9af39072",
   "metadata": {},
   "outputs": [],
   "source": [
    "# libraries\n",
    "import pandas as pd\n",
    "import warnings\n",
    "warnings.filterwarnings(\"ignore\")"
   ]
  },
  {
   "cell_type": "code",
   "execution_count": 5,
   "id": "4bb050f1",
   "metadata": {},
   "outputs": [
    {
     "name": "stdout",
     "output_type": "stream",
     "text": [
      "There are 700 rows and 7 columns.\n",
      "<class 'pandas.core.frame.DataFrame'>\n",
      "RangeIndex: 700 entries, 0 to 699\n",
      "Data columns (total 7 columns):\n",
      " #   Column         Non-Null Count  Dtype  \n",
      "---  ------         --------------  -----  \n",
      " 0   Unnamed: 0     700 non-null    int64  \n",
      " 1   property_type  700 non-null    object \n",
      " 2   state          700 non-null    object \n",
      " 3   lat            583 non-null    float64\n",
      " 4   lon            583 non-null    float64\n",
      " 5   area_m2        700 non-null    float64\n",
      " 6   price_usd      700 non-null    object \n",
      "dtypes: float64(3), int64(1), object(3)\n",
      "memory usage: 38.4+ KB\n",
      "None\n"
     ]
    },
    {
     "data": {
      "text/html": [
       "<div>\n",
       "<style scoped>\n",
       "    .dataframe tbody tr th:only-of-type {\n",
       "        vertical-align: middle;\n",
       "    }\n",
       "\n",
       "    .dataframe tbody tr th {\n",
       "        vertical-align: top;\n",
       "    }\n",
       "\n",
       "    .dataframe thead th {\n",
       "        text-align: right;\n",
       "    }\n",
       "</style>\n",
       "<table border=\"1\" class=\"dataframe\">\n",
       "  <thead>\n",
       "    <tr style=\"text-align: right;\">\n",
       "      <th></th>\n",
       "      <th>Unnamed: 0</th>\n",
       "      <th>property_type</th>\n",
       "      <th>state</th>\n",
       "      <th>lat</th>\n",
       "      <th>lon</th>\n",
       "      <th>area_m2</th>\n",
       "      <th>price_usd</th>\n",
       "    </tr>\n",
       "  </thead>\n",
       "  <tbody>\n",
       "    <tr>\n",
       "      <th>0</th>\n",
       "      <td>1</td>\n",
       "      <td>house</td>\n",
       "      <td>Estado de México</td>\n",
       "      <td>19.560181</td>\n",
       "      <td>-99.233528</td>\n",
       "      <td>150.0</td>\n",
       "      <td>$67,965.56</td>\n",
       "    </tr>\n",
       "    <tr>\n",
       "      <th>1</th>\n",
       "      <td>2</td>\n",
       "      <td>house</td>\n",
       "      <td>Nuevo León</td>\n",
       "      <td>25.688436</td>\n",
       "      <td>-100.198807</td>\n",
       "      <td>186.0</td>\n",
       "      <td>$63,223.78</td>\n",
       "    </tr>\n",
       "    <tr>\n",
       "      <th>2</th>\n",
       "      <td>3</td>\n",
       "      <td>apartment</td>\n",
       "      <td>Guerrero</td>\n",
       "      <td>16.767704</td>\n",
       "      <td>-99.764383</td>\n",
       "      <td>82.0</td>\n",
       "      <td>$84,298.37</td>\n",
       "    </tr>\n",
       "    <tr>\n",
       "      <th>3</th>\n",
       "      <td>4</td>\n",
       "      <td>apartment</td>\n",
       "      <td>Guerrero</td>\n",
       "      <td>16.829782</td>\n",
       "      <td>-99.911012</td>\n",
       "      <td>150.0</td>\n",
       "      <td>$94,308.80</td>\n",
       "    </tr>\n",
       "    <tr>\n",
       "      <th>4</th>\n",
       "      <td>5</td>\n",
       "      <td>house</td>\n",
       "      <td>Veracruz de Ignacio de la Llave</td>\n",
       "      <td>NaN</td>\n",
       "      <td>NaN</td>\n",
       "      <td>175.0</td>\n",
       "      <td>$94,835.67</td>\n",
       "    </tr>\n",
       "  </tbody>\n",
       "</table>\n",
       "</div>"
      ],
      "text/plain": [
       "   Unnamed: 0 property_type                            state        lat  \\\n",
       "0           1         house                 Estado de México  19.560181   \n",
       "1           2         house                       Nuevo León  25.688436   \n",
       "2           3     apartment                         Guerrero  16.767704   \n",
       "3           4     apartment                         Guerrero  16.829782   \n",
       "4           5         house  Veracruz de Ignacio de la Llave        NaN   \n",
       "\n",
       "          lon  area_m2   price_usd  \n",
       "0  -99.233528    150.0  $67,965.56  \n",
       "1 -100.198807    186.0  $63,223.78  \n",
       "2  -99.764383     82.0  $84,298.37  \n",
       "3  -99.911012    150.0  $94,308.80  \n",
       "4         NaN    175.0  $94,835.67  "
      ]
     },
     "execution_count": 5,
     "metadata": {},
     "output_type": "execute_result"
    }
   ],
   "source": [
    "df1=pd.read_excel(r\"data\\Mexico-real-estate-1.xlsx\")\n",
    "nRows, nCols = df1.shape\n",
    "\n",
    "print(f\"There are {nRows} rows and {nCols} columns.\")\n",
    "print(df1.info()) #looking at df1 datatypes for all the columns.\n",
    "df1.head()"
   ]
  },
  {
   "cell_type": "code",
   "execution_count": null,
   "id": "a0388b0e",
   "metadata": {},
   "outputs": [],
   "source": []
  },
  {
   "cell_type": "markdown",
   "id": "2c08c0e1",
   "metadata": {},
   "source": [
    "The dataset has 16% missing data from lat and lon columns."
   ]
  },
  {
   "cell_type": "code",
   "execution_count": null,
   "id": "a37ec750",
   "metadata": {},
   "outputs": [],
   "source": [
    "# dropping nan values\n",
    "df1.dropna(inplace=True)\n",
    "\n",
    "# dropping unnamed column which is not necessary.\n",
    "df1.drop(columns=\"Unnamed: 0\", inplace=True)"
   ]
  },
  {
   "cell_type": "markdown",
   "id": "e5a6045b",
   "metadata": {},
   "source": [
    "### price_usd"
   ]
  },
  {
   "cell_type": "code",
   "execution_count": null,
   "id": "973af07b",
   "metadata": {},
   "outputs": [],
   "source": [
    "# removing the unnecessary characters and changing the column data type\n",
    "df1.price_usd=df1.price_usd.str.replace(\"$\", \"\").str.replace(\",\", \"\").astype(float)"
   ]
  },
  {
   "cell_type": "code",
   "execution_count": null,
   "id": "2a552b96",
   "metadata": {},
   "outputs": [],
   "source": []
  },
  {
   "cell_type": "code",
   "execution_count": null,
   "id": "09ff85ca",
   "metadata": {},
   "outputs": [],
   "source": [
    "df2=pd.read_excel(r\"data\\Mexico-real-estate-2.xlsx\")\n",
    "\n",
    "nRows, nCols = df2.shape\n",
    "\n",
    "print(f\"There are {nRows} rows and {nCols} columns.\")\n",
    "print(df2.info()) #looking at df1 datatypes for all the columns.\n",
    "df2.head()"
   ]
  },
  {
   "cell_type": "code",
   "execution_count": null,
   "id": "d568a5e7",
   "metadata": {},
   "outputs": [],
   "source": [
    "# dropping nan values\n",
    "df2.dropna(inplace=True)"
   ]
  },
  {
   "cell_type": "markdown",
   "id": "2321bed8",
   "metadata": {},
   "source": [
    "### price_mxn"
   ]
  },
  {
   "cell_type": "code",
   "execution_count": null,
   "id": "b148de6c",
   "metadata": {},
   "outputs": [],
   "source": [
    "# converting 'price_mxn' columns from mxn to usd currency as per other dataframe and assging the result to a new column.\n",
    "df2[\"price_usd\"]=df2.price_mxn/19"
   ]
  },
  {
   "cell_type": "code",
   "execution_count": null,
   "id": "dafecf3c",
   "metadata": {},
   "outputs": [],
   "source": [
    "#converting mxn currency to to usd currency.\n",
    "df2.drop(columns=[\"price_mxn\", \"Unnamed: 0\"], inplace=True)"
   ]
  },
  {
   "cell_type": "markdown",
   "id": "ceb9b080",
   "metadata": {},
   "source": [
    "## DF3"
   ]
  },
  {
   "cell_type": "code",
   "execution_count": null,
   "id": "f086cfb2",
   "metadata": {},
   "outputs": [],
   "source": [
    "df3=pd.read_excel(r\"data\\Mexico-real-estate-3.xlsx\")\n",
    "nRows, nCols = df3.shape\n",
    "\n",
    "print(f\"There are {nRows} rows and {nCols} columns.\")\n",
    "print(df3.info()) #looking at df1 datatypes for all the columns.\n",
    "df3.head()"
   ]
  },
  {
   "cell_type": "code",
   "execution_count": null,
   "id": "6c01fb74",
   "metadata": {},
   "outputs": [],
   "source": [
    "# dropping nan values.\n",
    "df3.dropna(inplace=True)"
   ]
  },
  {
   "cell_type": "markdown",
   "id": "3bcd65c6",
   "metadata": {},
   "source": [
    "### lat-lon"
   ]
  },
  {
   "cell_type": "code",
   "execution_count": null,
   "id": "bc45ee3f",
   "metadata": {},
   "outputs": [],
   "source": [
    "# splitting lat-lon to get 2 columns.\n",
    "df3[[\"lat\",\"lon\"]]=df3[\"lat-lon\"].str.split(\",\", expand=True)"
   ]
  },
  {
   "cell_type": "markdown",
   "id": "4ee58a16",
   "metadata": {},
   "source": [
    "### place_with_parent_names"
   ]
  },
  {
   "cell_type": "code",
   "execution_count": null,
   "id": "22a015e4",
   "metadata": {},
   "outputs": [],
   "source": [
    "# spliting 'place_with_parent_names' to extract the district column.\n",
    "df3[\"state\"]=df3.place_with_parent_names.str.split(\"|\", expand=True)[2]"
   ]
  },
  {
   "cell_type": "code",
   "execution_count": null,
   "id": "33f5a1e0",
   "metadata": {},
   "outputs": [],
   "source": [
    "# dropping duplicate columns\n",
    "df3.drop(columns=[\"lat-lon\",\"place_with_parent_names\",\"Unnamed: 0\"], inplace=True)"
   ]
  },
  {
   "cell_type": "markdown",
   "id": "b3cfbfff",
   "metadata": {},
   "source": [
    "## Concatenate"
   ]
  },
  {
   "cell_type": "code",
   "execution_count": null,
   "id": "6023718e",
   "metadata": {},
   "outputs": [],
   "source": [
    "df=pd.concat([df1, df2, df3])\n",
    "df"
   ]
  },
  {
   "cell_type": "markdown",
   "id": "c1c39623",
   "metadata": {},
   "source": [
    "## Save to CSV"
   ]
  },
  {
   "cell_type": "code",
   "execution_count": null,
   "id": "714ae12a",
   "metadata": {},
   "outputs": [],
   "source": []
  }
 ],
 "metadata": {
  "kernelspec": {
   "display_name": "Python 3 (ipykernel)",
   "language": "python",
   "name": "python3"
  },
  "language_info": {
   "codemirror_mode": {
    "name": "ipython",
    "version": 3
   },
   "file_extension": ".py",
   "mimetype": "text/x-python",
   "name": "python",
   "nbconvert_exporter": "python",
   "pygments_lexer": "ipython3",
   "version": "3.11.5"
  }
 },
 "nbformat": 4,
 "nbformat_minor": 5
}
